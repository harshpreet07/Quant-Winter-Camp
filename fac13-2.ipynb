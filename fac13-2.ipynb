{
  "nbformat": 4,
  "nbformat_minor": 0,
  "metadata": {
    "colab": {
      "provenance": []
    },
    "kernelspec": {
      "name": "python3",
      "display_name": "Python 3"
    },
    "language_info": {
      "name": "python"
    }
  },
  "cells": [
    {
      "cell_type": "code",
      "execution_count": 30,
      "metadata": {
        "id": "sdgDv7u-Vpv_"
      },
      "outputs": [],
      "source": [
        "def sumofdigits(n):\n",
        " sum=0\n",
        " while(n!=0):\n",
        "  sum+=n%10\n",
        "  n=n//10\n",
        " return sum"
      ]
    },
    {
      "cell_type": "code",
      "source": [
        "a=int(input())\n",
        "count=0\n",
        "for i in range(a+1):\n",
        " for j in range(a-i+1):  #a+1-->a-i+1 too much time!!\n",
        "  k=a-i-j\n",
        "  if (i >= 0 and j >= 0 and k >= 0):\n",
        "    if sumofdigits(a)==sumofdigits(i)+sumofdigits(j)+sumofdigits(k):\n",
        "     count=count+1\n",
        "\n",
        "print(count)\n",
        "\n",
        "#time limit exceeded for 10000000 case tho"
      ],
      "metadata": {
        "colab": {
          "base_uri": "https://localhost:8080/"
        },
        "id": "eKyaPM1EWVtF",
        "outputId": "41c0f35b-9cbe-4fec-9e6e-eaedce0d1db4"
      },
      "execution_count": 35,
      "outputs": [
        {
          "output_type": "stream",
          "name": "stdout",
          "text": [
            "5\n",
            "21\n"
          ]
        }
      ]
    },
    {
      "cell_type": "code",
      "source": [],
      "metadata": {
        "id": "40EKGc73ZV6t"
      },
      "execution_count": null,
      "outputs": []
    }
  ]
}